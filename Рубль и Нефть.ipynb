{
 "cells": [
  {
   "cell_type": "code",
   "execution_count": 1,
   "id": "8d3c7453",
   "metadata": {},
   "outputs": [],
   "source": [
    "import numpy as np, matplotlib as mpl, matplotlib.pyplot as plt, pandas as pd\n",
    "import seaborn as sns, math, os\n",
    "import statsmodels.api as sm\n",
    "df_brent = pd.read_csv('brent_price.csv')\n",
    "df_RUB = pd.read_csv('RUB=X.csv')"
   ]
  },
  {
   "cell_type": "code",
   "execution_count": 2,
   "id": "278872a2",
   "metadata": {},
   "outputs": [],
   "source": [
    "df_brent['Date'] = pd.to_datetime(df_brent['Date'])\n",
    "df_RUB['Date'] = pd.to_datetime(df_RUB['Date'])"
   ]
  },
  {
   "cell_type": "code",
   "execution_count": 3,
   "id": "db3a112d",
   "metadata": {},
   "outputs": [
    {
     "name": "stdout",
     "output_type": "stream",
     "text": [
      "Критерий Дики-Фуллера: p-value=(-2.286746902649301, 0.17627799214544843, 4, 248, {'1%': -3.4569962781990573, '5%': -2.8732659015936024, '10%': -2.573018897632674}, 903.497658902387)\n"
     ]
    }
   ],
   "source": [
    "# Задача 1\n",
    "# Проверить на стационарность ряд цены на нефть, для этого найдем Критерий Дики-Фуллера\n",
    "brent = sm.tsa.stattools.adfuller(df_brent['Close*'])\n",
    "print(f'Критерий Дики-Фуллера: p-value={brent}')"
   ]
  },
  {
   "cell_type": "markdown",
   "id": "b15d873e",
   "metadata": {},
   "source": [
    "Вывод: Ряд цен на нефть не стационарен даже при 10% уровне значимости."
   ]
  },
  {
   "cell_type": "code",
   "execution_count": 4,
   "id": "47b5ca89",
   "metadata": {},
   "outputs": [
    {
     "name": "stdout",
     "output_type": "stream",
     "text": [
      "Критерий Дики-Фуллера: p-value=(-2.6802466349593304, 0.07751928119837088, 0, 252, {'1%': -3.4565688966099373, '5%': -2.8730786194395455, '10%': -2.5729189953388762}, -1002.6902895666972)\n"
     ]
    }
   ],
   "source": [
    "# Задача 2 Проверить на стационарность ряд из лог-приростов цены на нефть\n",
    "# для этого прологарифмируем цену\n",
    "df_brent['log2'] = np.log2(df_brent['Close*'])\n",
    "df_brent_log = df_brent['log2']\n",
    "# найдем Критерий Дики-Фуллера\n",
    "brent_log = sm.tsa.stattools.adfuller(df_brent_log)\n",
    "print(f'Критерий Дики-Фуллера: p-value={brent_log}')"
   ]
  },
  {
   "cell_type": "markdown",
   "id": "e7972514",
   "metadata": {},
   "source": [
    "Вывод: Ряд из лог-приростов цены на нефть также не стационарен даже при 10% уровне значимости."
   ]
  },
  {
   "cell_type": "code",
   "execution_count": 5,
   "id": "6277d955",
   "metadata": {},
   "outputs": [],
   "source": [
    "# Задача 3. Построить линейную регрессию курса доллара США к рублю к \n",
    "# цене на нефть и проверить значимость параметров.\n",
    "\n",
    "df_RUB = pd.read_csv('RUB=X.csv')\n",
    "df_RUB['Date'] = pd.to_datetime(df_RUB['Date'])"
   ]
  },
  {
   "cell_type": "code",
   "execution_count": 7,
   "id": "684bbd18",
   "metadata": {},
   "outputs": [],
   "source": [
    "# выбераем поля и объеденим датафреймы\n",
    "df_brent = df_brent[['Date', 'Close*']]\n",
    "df_RUB = df_RUB[['Date', 'Close']]\n",
    "df_RUB_brent = df_brent.merge(df_RUB, on=[\"Date\"])"
   ]
  },
  {
   "cell_type": "code",
   "execution_count": 9,
   "id": "70290b21",
   "metadata": {},
   "outputs": [],
   "source": [
    "# импортирую библиотеку Линейной регрессии\n",
    "from sklearn.linear_model import LinearRegression\n",
    "from sklearn.metrics import mean_squared_error, r2_score"
   ]
  },
  {
   "cell_type": "code",
   "execution_count": 11,
   "id": "7fb220aa",
   "metadata": {},
   "outputs": [
    {
     "name": "stdout",
     "output_type": "stream",
     "text": [
      "[67.37973598] [[0.18018508]] 0.1522041279728048\n"
     ]
    }
   ],
   "source": [
    "# создаю и обучаю модель\n",
    "X = df_RUB_brent[['Close']]\n",
    "y = df_RUB_brent[['Close*']]\n",
    "model = LinearRegression()\n",
    "model_fit = LinearRegression().fit(X, y)\n",
    "print(model_fit.intercept_, model_fit.coef_, model_fit.score(X, y))"
   ]
  },
  {
   "cell_type": "code",
   "execution_count": 12,
   "id": "f0485ba5",
   "metadata": {},
   "outputs": [
    {
     "data": {
      "text/plain": [
       "24.273938931124217"
      ]
     },
     "execution_count": 12,
     "metadata": {},
     "output_type": "execute_result"
    }
   ],
   "source": [
    "y_train_predict = model_fit.predict(X)\n",
    "mse = mean_squared_error(y, y_train_predict)\n",
    "mse"
   ]
  },
  {
   "cell_type": "code",
   "execution_count": 21,
   "id": "95b41c10",
   "metadata": {},
   "outputs": [],
   "source": [
    "# Задача 4. Построить линейную регрессию логарифма курса доллара США к рублю к\n",
    "# логарифму цены на нефть и проверить значимость параметров.\n",
    "df_RUB['logR'] = np.log2(df_RUB['Close'])\n",
    "df_brent['log2'] = np.log2(df_brent['Close*'])\n",
    "df_brent_log = df_brent['log2']\n",
    "df_RUB_brent_log = df_brent.merge(df_RUB, on=[\"Date\"])"
   ]
  },
  {
   "cell_type": "code",
   "execution_count": 22,
   "id": "ffa81034",
   "metadata": {},
   "outputs": [
    {
     "name": "stdout",
     "output_type": "stream",
     "text": [
      "                            OLS Regression Results                            \n",
      "==============================================================================\n",
      "Dep. Variable:                   log2   R-squared:                       0.086\n",
      "Model:                            OLS   Adj. R-squared:                  0.082\n",
      "Method:                 Least Squares   F-statistic:                     20.72\n",
      "Date:                Thu, 07 Dec 2023   Prob (F-statistic):           8.77e-06\n",
      "Time:                        16:03:05   Log-Likelihood:                 222.37\n",
      "No. Observations:                 223   AIC:                            -440.7\n",
      "Df Residuals:                     221   BIC:                            -433.9\n",
      "Df Model:                           1                                         \n",
      "Covariance Type:            nonrobust                                         \n",
      "==============================================================================\n",
      "                 coef    std err          t      P>|t|      [0.025      0.975]\n",
      "------------------------------------------------------------------------------\n",
      "const          5.8283      0.117     49.827      0.000       5.598       6.059\n",
      "logR           0.0837      0.018      4.552      0.000       0.047       0.120\n",
      "==============================================================================\n",
      "Omnibus:                        6.940   Durbin-Watson:                   0.216\n",
      "Prob(Omnibus):                  0.031   Jarque-Bera (JB):                3.683\n",
      "Skew:                          -0.013   Prob(JB):                        0.159\n",
      "Kurtosis:                       2.371   Cond. No.                         127.\n",
      "==============================================================================\n",
      "\n",
      "Notes:\n",
      "[1] Standard Errors assume that the covariance matrix of the errors is correctly specified.\n"
     ]
    }
   ],
   "source": [
    "# создаю и обучаю модель\n",
    "X = df_RUB_brent_log[['logR']]\n",
    "y = df_RUB_brent_log[['log2']]\n",
    "X = sm.add_constant(X)\n",
    "model_brent_log = sm.OLS(y, X).fit()\n",
    "print(model_brent_log.summary())"
   ]
  },
  {
   "cell_type": "code",
   "execution_count": 26,
   "id": "dc323ca0",
   "metadata": {},
   "outputs": [
    {
     "name": "stdout",
     "output_type": "stream",
     "text": [
      "                            OLS Regression Results                            \n",
      "==============================================================================\n",
      "Dep. Variable:                   log2   R-squared:                       0.998\n",
      "Model:                            OLS   Adj. R-squared:                  0.998\n",
      "Method:                 Least Squares   F-statistic:                 1.410e+05\n",
      "Date:                Thu, 07 Dec 2023   Prob (F-statistic):          5.41e-312\n",
      "Time:                        16:06:52   Log-Likelihood:                 932.63\n",
      "No. Observations:                 223   AIC:                            -1861.\n",
      "Df Residuals:                     221   BIC:                            -1854.\n",
      "Df Model:                           1                                         \n",
      "Covariance Type:            nonrobust                                         \n",
      "==============================================================================\n",
      "                 coef    std err          t      P>|t|      [0.025      0.975]\n",
      "------------------------------------------------------------------------------\n",
      "const          4.9250      0.004   1285.825      0.000       4.917       4.933\n",
      "Close*         0.0174   4.64e-05    375.451      0.000       0.017       0.018\n",
      "==============================================================================\n",
      "Omnibus:                       61.580   Durbin-Watson:                   0.282\n",
      "Prob(Omnibus):                  0.000   Jarque-Bera (JB):              107.420\n",
      "Skew:                          -1.487   Prob(JB):                     4.72e-24\n",
      "Kurtosis:                       4.647   Cond. No.                     1.27e+03\n",
      "==============================================================================\n",
      "\n",
      "Notes:\n",
      "[1] Standard Errors assume that the covariance matrix of the errors is correctly specified.\n",
      "[2] The condition number is large, 1.27e+03. This might indicate that there are\n",
      "strong multicollinearity or other numerical problems.\n"
     ]
    }
   ],
   "source": [
    "# Задача 5. Исследовать автокорреляцию лог-приростов цены на нефть.\n",
    "X = df_RUB_brent_log[['Close*']]\n",
    "y = df_RUB_brent_log[['log2']]\n",
    "X = sm.add_constant(X)\n",
    "model_brent_log = sm.OLS(y, X).fit()\n",
    "print(model_brent_log.summary())"
   ]
  },
  {
   "cell_type": "code",
   "execution_count": 27,
   "id": "a7f96e69",
   "metadata": {},
   "outputs": [
    {
     "data": {
      "text/plain": [
       "PearsonRResult(statistic=0.9992170290713979, pvalue=5.413851086797e-312)"
      ]
     },
     "execution_count": 27,
     "metadata": {},
     "output_type": "execute_result"
    }
   ],
   "source": [
    "from scipy import stats\n",
    "x, y = [df_RUB_brent_log['Close*'], df_RUB_brent_log['log2']]\n",
    "res = stats.pearsonr(x, y)\n",
    "res"
   ]
  },
  {
   "cell_type": "code",
   "execution_count": null,
   "id": "7dc8cb55",
   "metadata": {},
   "outputs": [],
   "source": []
  }
 ],
 "metadata": {
  "kernelspec": {
   "display_name": "Python 3 (ipykernel)",
   "language": "python",
   "name": "python3"
  },
  "language_info": {
   "codemirror_mode": {
    "name": "ipython",
    "version": 3
   },
   "file_extension": ".py",
   "mimetype": "text/x-python",
   "name": "python",
   "nbconvert_exporter": "python",
   "pygments_lexer": "ipython3",
   "version": "3.11.5"
  }
 },
 "nbformat": 4,
 "nbformat_minor": 5
}
